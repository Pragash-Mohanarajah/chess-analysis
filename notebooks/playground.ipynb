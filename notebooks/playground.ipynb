{
 "cells": [
  {
   "cell_type": "code",
   "execution_count": 1,
   "metadata": {},
   "outputs": [],
   "source": [
    "import pandas as pd\n",
    "import numpy as np\n",
    "import matplotlib.pyplot as plt\n",
    "import plotly.express as p"
   ]
  },
  {
   "cell_type": "code",
   "execution_count": 2,
   "metadata": {},
   "outputs": [
    {
     "data": {
      "text/html": [
       "<div>\n",
       "<style scoped>\n",
       "    .dataframe tbody tr th:only-of-type {\n",
       "        vertical-align: middle;\n",
       "    }\n",
       "\n",
       "    .dataframe tbody tr th {\n",
       "        vertical-align: top;\n",
       "    }\n",
       "\n",
       "    .dataframe thead th {\n",
       "        text-align: right;\n",
       "    }\n",
       "</style>\n",
       "<table border=\"1\" class=\"dataframe\">\n",
       "  <thead>\n",
       "    <tr style=\"text-align: right;\">\n",
       "      <th></th>\n",
       "      <th>month</th>\n",
       "      <th>year</th>\n",
       "      <th>url</th>\n",
       "      <th>pgn</th>\n",
       "      <th>time_control</th>\n",
       "      <th>rated</th>\n",
       "      <th>time_class</th>\n",
       "      <th>rules</th>\n",
       "      <th>white_rating</th>\n",
       "      <th>white_result</th>\n",
       "      <th>white_username</th>\n",
       "      <th>black_rating</th>\n",
       "      <th>black_result</th>\n",
       "      <th>black_username</th>\n",
       "    </tr>\n",
       "    <tr>\n",
       "      <th>id</th>\n",
       "      <th></th>\n",
       "      <th></th>\n",
       "      <th></th>\n",
       "      <th></th>\n",
       "      <th></th>\n",
       "      <th></th>\n",
       "      <th></th>\n",
       "      <th></th>\n",
       "      <th></th>\n",
       "      <th></th>\n",
       "      <th></th>\n",
       "      <th></th>\n",
       "      <th></th>\n",
       "      <th></th>\n",
       "    </tr>\n",
       "  </thead>\n",
       "  <tbody>\n",
       "    <tr>\n",
       "      <th>0</th>\n",
       "      <td>5</td>\n",
       "      <td>2020</td>\n",
       "      <td>https://www.chess.com/game/live/4811368920</td>\n",
       "      <td>[Event \"Live Chess\"]\\n[Site \"Chess.com\"]\\n[Dat...</td>\n",
       "      <td>600</td>\n",
       "      <td>True</td>\n",
       "      <td>blitz</td>\n",
       "      <td>chess</td>\n",
       "      <td>1030</td>\n",
       "      <td>win</td>\n",
       "      <td>ImperfectVisitor</td>\n",
       "      <td>836</td>\n",
       "      <td>checkmated</td>\n",
       "      <td>PragashMohanarajah</td>\n",
       "    </tr>\n",
       "    <tr>\n",
       "      <th>1</th>\n",
       "      <td>5</td>\n",
       "      <td>2020</td>\n",
       "      <td>https://www.chess.com/game/live/4813650075</td>\n",
       "      <td>[Event \"Live Chess\"]\\n[Site \"Chess.com\"]\\n[Dat...</td>\n",
       "      <td>60</td>\n",
       "      <td>True</td>\n",
       "      <td>bullet</td>\n",
       "      <td>chess</td>\n",
       "      <td>850</td>\n",
       "      <td>timeout</td>\n",
       "      <td>PragashMohanarajah</td>\n",
       "      <td>1060</td>\n",
       "      <td>win</td>\n",
       "      <td>ricti3000</td>\n",
       "    </tr>\n",
       "    <tr>\n",
       "      <th>2</th>\n",
       "      <td>5</td>\n",
       "      <td>2020</td>\n",
       "      <td>https://www.chess.com/game/live/4813656361</td>\n",
       "      <td>[Event \"Live Chess\"]\\n[Site \"Chess.com\"]\\n[Dat...</td>\n",
       "      <td>60</td>\n",
       "      <td>True</td>\n",
       "      <td>bullet</td>\n",
       "      <td>chess</td>\n",
       "      <td>933</td>\n",
       "      <td>win</td>\n",
       "      <td>SocialBeet</td>\n",
       "      <td>736</td>\n",
       "      <td>timeout</td>\n",
       "      <td>PragashMohanarajah</td>\n",
       "    </tr>\n",
       "    <tr>\n",
       "      <th>3</th>\n",
       "      <td>5</td>\n",
       "      <td>2020</td>\n",
       "      <td>https://www.chess.com/game/live/4813663378</td>\n",
       "      <td>[Event \"Live Chess\"]\\n[Site \"Chess.com\"]\\n[Dat...</td>\n",
       "      <td>60</td>\n",
       "      <td>True</td>\n",
       "      <td>bullet</td>\n",
       "      <td>chess</td>\n",
       "      <td>619</td>\n",
       "      <td>timeout</td>\n",
       "      <td>PragashMohanarajah</td>\n",
       "      <td>680</td>\n",
       "      <td>win</td>\n",
       "      <td>paulreichle</td>\n",
       "    </tr>\n",
       "    <tr>\n",
       "      <th>4</th>\n",
       "      <td>5</td>\n",
       "      <td>2020</td>\n",
       "      <td>https://www.chess.com/game/live/4813828525</td>\n",
       "      <td>[Event \"Live Chess\"]\\n[Site \"Chess.com\"]\\n[Dat...</td>\n",
       "      <td>600</td>\n",
       "      <td>True</td>\n",
       "      <td>blitz</td>\n",
       "      <td>chess</td>\n",
       "      <td>736</td>\n",
       "      <td>checkmated</td>\n",
       "      <td>PragashMohanarajah</td>\n",
       "      <td>900</td>\n",
       "      <td>win</td>\n",
       "      <td>Bala620</td>\n",
       "    </tr>\n",
       "  </tbody>\n",
       "</table>\n",
       "</div>"
      ],
      "text/plain": [
       "    month  year                                         url  \\\n",
       "id                                                            \n",
       "0       5  2020  https://www.chess.com/game/live/4811368920   \n",
       "1       5  2020  https://www.chess.com/game/live/4813650075   \n",
       "2       5  2020  https://www.chess.com/game/live/4813656361   \n",
       "3       5  2020  https://www.chess.com/game/live/4813663378   \n",
       "4       5  2020  https://www.chess.com/game/live/4813828525   \n",
       "\n",
       "                                                  pgn time_control  rated  \\\n",
       "id                                                                          \n",
       "0   [Event \"Live Chess\"]\\n[Site \"Chess.com\"]\\n[Dat...          600   True   \n",
       "1   [Event \"Live Chess\"]\\n[Site \"Chess.com\"]\\n[Dat...           60   True   \n",
       "2   [Event \"Live Chess\"]\\n[Site \"Chess.com\"]\\n[Dat...           60   True   \n",
       "3   [Event \"Live Chess\"]\\n[Site \"Chess.com\"]\\n[Dat...           60   True   \n",
       "4   [Event \"Live Chess\"]\\n[Site \"Chess.com\"]\\n[Dat...          600   True   \n",
       "\n",
       "   time_class  rules  white_rating white_result      white_username  \\\n",
       "id                                                                    \n",
       "0       blitz  chess          1030          win    ImperfectVisitor   \n",
       "1      bullet  chess           850      timeout  PragashMohanarajah   \n",
       "2      bullet  chess           933          win          SocialBeet   \n",
       "3      bullet  chess           619      timeout  PragashMohanarajah   \n",
       "4       blitz  chess           736   checkmated  PragashMohanarajah   \n",
       "\n",
       "    black_rating black_result      black_username  \n",
       "id                                                 \n",
       "0            836   checkmated  PragashMohanarajah  \n",
       "1           1060          win           ricti3000  \n",
       "2            736      timeout  PragashMohanarajah  \n",
       "3            680          win         paulreichle  \n",
       "4            900          win             Bala620  "
      ]
     },
     "execution_count": 2,
     "metadata": {},
     "output_type": "execute_result"
    }
   ],
   "source": [
    "df = pd.read_csv(\"../data/data.csv\", index_col=0)\n",
    "df.head()"
   ]
  },
  {
   "cell_type": "code",
   "execution_count": 3,
   "metadata": {},
   "outputs": [
    {
     "name": "stdout",
     "output_type": "stream",
     "text": [
      "<class 'pandas.core.frame.DataFrame'>\n",
      "Index: 18722 entries, 0 to 18721\n",
      "Data columns (total 14 columns):\n",
      " #   Column          Non-Null Count  Dtype \n",
      "---  ------          --------------  ----- \n",
      " 0   month           18722 non-null  int64 \n",
      " 1   year            18722 non-null  int64 \n",
      " 2   url             18722 non-null  object\n",
      " 3   pgn             18722 non-null  object\n",
      " 4   time_control    18722 non-null  object\n",
      " 5   rated           18722 non-null  bool  \n",
      " 6   time_class      18722 non-null  object\n",
      " 7   rules           18722 non-null  object\n",
      " 8   white_rating    18722 non-null  int64 \n",
      " 9   white_result    18722 non-null  object\n",
      " 10  white_username  18722 non-null  object\n",
      " 11  black_rating    18722 non-null  int64 \n",
      " 12  black_result    18722 non-null  object\n",
      " 13  black_username  18722 non-null  object\n",
      "dtypes: bool(1), int64(4), object(9)\n",
      "memory usage: 2.0+ MB\n"
     ]
    }
   ],
   "source": [
    "df.info()"
   ]
  },
  {
   "cell_type": "code",
   "execution_count": 4,
   "metadata": {},
   "outputs": [
    {
     "data": {
      "text/plain": [
       "rated\n",
       "True     18698\n",
       "False       24\n",
       "Name: count, dtype: int64"
      ]
     },
     "execution_count": 4,
     "metadata": {},
     "output_type": "execute_result"
    }
   ],
   "source": [
    "df.rated.value_counts()"
   ]
  },
  {
   "cell_type": "code",
   "execution_count": 5,
   "metadata": {},
   "outputs": [
    {
     "data": {
      "text/plain": [
       "rules\n",
       "chess            18148\n",
       "threecheck         234\n",
       "crazyhouse         197\n",
       "kingofthehill      103\n",
       "chess960            40\n",
       "Name: count, dtype: int64"
      ]
     },
     "execution_count": 5,
     "metadata": {},
     "output_type": "execute_result"
    }
   ],
   "source": [
    "df.rules.value_counts()"
   ]
  },
  {
   "cell_type": "code",
   "execution_count": 6,
   "metadata": {},
   "outputs": [
    {
     "name": "stdout",
     "output_type": "stream",
     "text": [
      "white_username\n",
      "Komodo1        24\n",
      "Ppster         17\n",
      "Fabian-BOT     17\n",
      "hidden_tree    13\n",
      "Komodo2        13\n",
      "Name: count, dtype: int64\n"
     ]
    }
   ],
   "source": [
    "opps = df.white_username.value_counts()\n",
    "for name,val in df.black_username.value_counts().items():\n",
    "    if name in opps:\n",
    "        opps[name] += val\n",
    "    else: opps[name] = val\n",
    "print(opps[1:6])"
   ]
  },
  {
   "cell_type": "code",
   "execution_count": 9,
   "metadata": {},
   "outputs": [
    {
     "name": "stdout",
     "output_type": "stream",
     "text": [
      "1 minutes\n",
      "3 minutes\n",
      "10 minutes\n",
      "5 minutes\n",
      "7.0 days per turn\n",
      "2 minutes + 1 second increment\n",
      "15 minutes + 10 seconds increment\n",
      "3.0 days per turn\n",
      "0 minutes\n",
      "3 minutes + 2 seconds increment\n",
      "1 minutes + 2 seconds increment\n",
      "1 minutes + 1 second increment\n",
      "15 minutes\n",
      "5 minutes + 5 seconds increment\n",
      "25 minutes + 5 seconds increment\n",
      "1.0 days per turn\n",
      "2 minutes\n",
      "30 minutes\n",
      "20 minutes\n",
      "15 minutes + 5 seconds increment\n"
     ]
    }
   ],
   "source": [
    "for time_control, count in df.time_control.value_counts().items():\n",
    "    if \"+\" in time_control:\n",
    "        times = time_control.split(\"+\")\n",
    "        mins = int(times[0]) // 60\n",
    "        secs = int(times[1])\n",
    "        if secs == 0:\n",
    "            print(f\"{mins} minutes\")\n",
    "        elif secs == 1:\n",
    "            print(f\"{mins} minutes + 1 second increment\")\n",
    "        else:\n",
    "            print(f\"{mins} minutes + {secs} seconds increment\")\n",
    "    elif \"/\" in time_control:\n",
    "        days = int(time_control.split(\"/\")[1]) / 60 / 60 /24\n",
    "        print(f\"{days} days per turn\")\n",
    "    else:\n",
    "        print(f\"{int(time_control) // 60} minutes\")      "
   ]
  },
  {
   "cell_type": "code",
   "execution_count": 10,
   "metadata": {},
   "outputs": [
    {
     "name": "stdout",
     "output_type": "stream",
     "text": [
      "bullet 14507\n",
      "blitz 3753\n",
      "rapid 370\n",
      "daily 92\n"
     ]
    }
   ],
   "source": [
    "for time_format, count in df.time_class.value_counts().items():\n",
    "    print(time_format, count)"
   ]
  },
  {
   "cell_type": "code",
   "execution_count": 11,
   "metadata": {},
   "outputs": [
    {
     "name": "stdout",
     "output_type": "stream",
     "text": [
      "bzesraj\n"
     ]
    }
   ],
   "source": [
    "\n",
    "data = df[(df[\"white_username\"] == \"PragashMohanarajah\") & (df['white_result'] == \"win\")]\n",
    "print(data[data.black_rating == max(data.black_rating)][[\"black_rating\", \"black_username\"]][\"black_username\"].values[0])"
   ]
  }
 ],
 "metadata": {
  "kernelspec": {
   "display_name": "chess-analysis",
   "language": "python",
   "name": "python3"
  },
  "language_info": {
   "codemirror_mode": {
    "name": "ipython",
    "version": 3
   },
   "file_extension": ".py",
   "mimetype": "text/x-python",
   "name": "python",
   "nbconvert_exporter": "python",
   "pygments_lexer": "ipython3",
   "version": "3.11.8"
  }
 },
 "nbformat": 4,
 "nbformat_minor": 2
}
